{
 "cells": [
  {
   "cell_type": "code",
   "execution_count": 169,
   "id": "1f98a9b2",
   "metadata": {},
   "outputs": [],
   "source": [
    "import requests\n",
    "import json\n",
    "import os\n",
    "import numpy as np\n",
    "import socket"
   ]
  },
  {
   "cell_type": "code",
   "execution_count": 170,
   "id": "60a7af54",
   "metadata": {},
   "outputs": [
    {
     "name": "stdout",
     "output_type": "stream",
     "text": [
      "/Users/eyal42/Work/Entrepreneurship/Ramzgate/Hackathon/ethnodecomm\n"
     ]
    }
   ],
   "source": [
    "%cd /Users/eyal42/Work/Entrepreneurship/Ramzgate/Hackathon/ethnodecomm"
   ]
  },
  {
   "cell_type": "code",
   "execution_count": 171,
   "id": "46f3c05b",
   "metadata": {},
   "outputs": [],
   "source": [
    "bootnode='enode://cb81a919ed36d00b7eee4df1825890be2ccde75afba10262bc580ac78c41f34ddb2334e5c0856848b4542b03c8d3664f1417d11a6b772bd7f102f855ed641004@162.246.18.250:30303'\n"
   ]
  },
  {
   "cell_type": "code",
   "execution_count": 172,
   "id": "427528b1",
   "metadata": {},
   "outputs": [],
   "source": [
    "def nodeStrip(ww):\n",
    "    res=ww.split(':')[1][2:].split('@')[0]\n",
    "    assert len(res)==128, 'Too Short!'\n",
    "    return(res)"
   ]
  },
  {
   "cell_type": "code",
   "execution_count": 173,
   "id": "3a1b3f1c",
   "metadata": {},
   "outputs": [],
   "source": [
    "def getNeighbors(node,HT):\n",
    "    print('node',len(node),node)\n",
    "    query='go run main.go --bootnode \"{0}\" > neighbor_files/{1}.txt'.format(HT[node],node)\n",
    "    ans=os.system(query)  \n",
    "    ff = open('neighbor_files/{0}.txt'.format(node),\"r\")\n",
    "    tt=[ll.strip() for ll in ff]\n",
    "    ff.close()\n",
    "    vv={nodeStrip(ww):ww for ww in tt}\n",
    "    if node in vv:\n",
    "        del vv[node]\n",
    "    print('# neighbors',len(vv))\n",
    "    return(vv)\n"
   ]
  },
  {
   "cell_type": "code",
   "execution_count": 174,
   "id": "e805d38c",
   "metadata": {},
   "outputs": [],
   "source": [
    "def Iteration(HT,V,E,queue):\n",
    "    PP=set([])\n",
    "    for node in queue:\n",
    "        vv=getNeighbors(node,HT)\n",
    "        HT.update(vv)\n",
    "        PP=PP|set(vv.keys())-V\n",
    "        V=V|set(vv.keys())\n",
    "        E[node]=list(vv.keys())\n",
    "    return(HT,V,E,PP)"
   ]
  },
  {
   "cell_type": "code",
   "execution_count": 156,
   "id": "dc191eb6",
   "metadata": {},
   "outputs": [],
   "source": [
    "V=set([nodeStrip(bootnode)]) ; E={}\n",
    "HT={nodeStrip(bootnode):bootnode} ; queue=[nodeStrip(bootnode)]\n"
   ]
  },
  {
   "cell_type": "code",
   "execution_count": 157,
   "id": "a6518791",
   "metadata": {},
   "outputs": [
    {
     "name": "stdout",
     "output_type": "stream",
     "text": [
      "node 128 cb81a919ed36d00b7eee4df1825890be2ccde75afba10262bc580ac78c41f34ddb2334e5c0856848b4542b03c8d3664f1417d11a6b772bd7f102f855ed641004\n",
      "# neighbors 15\n"
     ]
    }
   ],
   "source": [
    "for ii in range(2):\n",
    "    HT,V,E,queue=Iteration(HT,V,E,queue)"
   ]
  },
  {
   "cell_type": "code",
   "execution_count": null,
   "id": "acbd03dd",
   "metadata": {},
   "outputs": [],
   "source": []
  }
 ],
 "metadata": {
  "kernelspec": {
   "display_name": "Python 3 (ipykernel)",
   "language": "python",
   "name": "python3"
  },
  "language_info": {
   "codemirror_mode": {
    "name": "ipython",
    "version": 3
   },
   "file_extension": ".py",
   "mimetype": "text/x-python",
   "name": "python",
   "nbconvert_exporter": "python",
   "pygments_lexer": "ipython3",
   "version": "3.8.16"
  }
 },
 "nbformat": 4,
 "nbformat_minor": 5
}
